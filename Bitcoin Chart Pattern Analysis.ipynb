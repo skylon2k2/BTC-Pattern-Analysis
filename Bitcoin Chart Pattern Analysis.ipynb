{
 "cells": [
  {
   "cell_type": "markdown",
   "metadata": {
    "application/vnd.databricks.v1+cell": {
     "cellMetadata": {
      "byteLimit": 2048000,
      "rowLimit": 10000
     },
     "inputWidgets": {},
     "nuid": "364176a0-b98d-47d3-af5c-d2e46ee7bd69",
     "showTitle": false,
     "tableResultSettingsMap": {},
     "title": ""
    }
   },
   "source": [
    "The purpose of this program is to determine if common chart patterns are ideal indicators of future trends for Bitcoin.\n",
    "Here are some chart patterns we will cover:\n",
    "<ul>\n",
    "  <li>Double Top</li>\n",
    "  <li>Double Bottom</li>\n",
    "  <li>Head and Shoulders</li>\n",
    "  <li>Inverse Head and Shoulders</li>\n",
    "  <li>Ascending Triangle</li>\n",
    "  <li>Descending Triangle</li>\n",
    "  <li>Bullish Pennant</li>\n",
    "  <li>Bearish Pennant</li>\n",
    "</ul>\n",
    "\n",
    "The following chart patterns may or may not be covered.\n",
    "<ul>\n",
    "  <li>Cup and Handle</li>\n",
    "  <li>Inverse Cup and Handle</li>\n",
    "</ul>\n",
    "\n",
    "The following video is used as reference when analyzing chart patterns:\n",
    "[Chart Patterns](https://www.youtube.com/watch?v=sWTnFS10tdQ)\n",
    "\n",
    "Note: For simplicity, we may not include the confirmation that traders are urged to check in the event of a false breakout.\n",
    "This confirmation is used to mitigate losses if a false breakout is to occur, where the price drops back to the same level as when the breakout occurred."
   ]
  },
  {
   "cell_type": "markdown",
   "metadata": {
    "application/vnd.databricks.v1+cell": {
     "cellMetadata": {
      "byteLimit": 2048000,
      "rowLimit": 10000
     },
     "inputWidgets": {},
     "nuid": "84fd550f-f1a7-4a32-8ce0-dcb3cf0e0247",
     "showTitle": false,
     "tableResultSettingsMap": {},
     "title": ""
    }
   },
   "source": [
    "[Here](https://www.kaggle.com/datasets/mczielinski/bitcoin-historical-data/code) is the link to the dataset used for this study. The dataset for this project was downloaded on 23 December 2024 and is updated daily."
   ]
  },
  {
   "cell_type": "code",
   "execution_count": 0,
   "metadata": {
    "application/vnd.databricks.v1+cell": {
     "cellMetadata": {
      "byteLimit": 2048000,
      "rowLimit": 10000
     },
     "inputWidgets": {},
     "nuid": "33b9386b-431f-4ec0-a33f-8838df038a22",
     "showTitle": false,
     "tableResultSettingsMap": {},
     "title": ""
    }
   },
   "outputs": [],
   "source": [
    "input_file = \"dbfs:/FileStore/tables/btcusd_1_min_data.csv\"     # Alter file path based on your system\n",
    "df_btc = spark.read.format(\"csv\").option(\"header\", \"true\").load(input_file)"
   ]
  },
  {
   "cell_type": "code",
   "execution_count": 0,
   "metadata": {
    "application/vnd.databricks.v1+cell": {
     "cellMetadata": {
      "byteLimit": 2048000,
      "rowLimit": 10000
     },
     "inputWidgets": {},
     "nuid": "5e7ffaf6-d2a7-435a-9d05-facf93f13073",
     "showTitle": false,
     "tableResultSettingsMap": {},
     "title": ""
    }
   },
   "outputs": [
    {
     "output_type": "stream",
     "name": "stdout",
     "output_type": "stream",
     "text": [
      "+------------+----+----+----+-----+------+\n|   Timestamp|Open|High| Low|Close|Volume|\n+------------+----+----+----+-----+------+\n|1325412060.0|4.58|4.58|4.58| 4.58|   0.0|\n|1325412120.0|4.58|4.58|4.58| 4.58|   0.0|\n|1325412180.0|4.58|4.58|4.58| 4.58|   0.0|\n|1325412240.0|4.58|4.58|4.58| 4.58|   0.0|\n|1325412300.0|4.58|4.58|4.58| 4.58|   0.0|\n|1325412360.0|4.58|4.58|4.58| 4.58|   0.0|\n|1325412420.0|4.58|4.58|4.58| 4.58|   0.0|\n|1325412480.0|4.58|4.58|4.58| 4.58|   0.0|\n|1325412540.0|4.58|4.58|4.58| 4.58|   0.0|\n|1325412600.0|4.58|4.58|4.58| 4.58|   0.0|\n+------------+----+----+----+-----+------+\nonly showing top 10 rows\n\n"
     ]
    }
   ],
   "source": [
    "df_btc.show(10)"
   ]
  },
  {
   "cell_type": "code",
   "execution_count": 0,
   "metadata": {
    "application/vnd.databricks.v1+cell": {
     "cellMetadata": {
      "byteLimit": 2048000,
      "rowLimit": 10000
     },
     "inputWidgets": {},
     "nuid": "69ad6881-5992-4f8a-8c62-0d13c6554db2",
     "showTitle": false,
     "tableResultSettingsMap": {},
     "title": ""
    }
   },
   "outputs": [
    {
     "output_type": "stream",
     "name": "stdout",
     "output_type": "stream",
     "text": [
      "root\n |-- Timestamp: string (nullable = true)\n |-- Open: string (nullable = true)\n |-- High: string (nullable = true)\n |-- Low: string (nullable = true)\n |-- Close: string (nullable = true)\n |-- Volume: string (nullable = true)\n\n"
     ]
    }
   ],
   "source": [
    "df_btc.printSchema()"
   ]
  },
  {
   "cell_type": "markdown",
   "metadata": {
    "application/vnd.databricks.v1+cell": {
     "cellMetadata": {
      "byteLimit": 2048000,
      "rowLimit": 10000
     },
     "inputWidgets": {},
     "nuid": "c1f5b0e1-b2d4-422a-97f7-0825bf8878a1",
     "showTitle": false,
     "tableResultSettingsMap": {},
     "title": ""
    }
   },
   "source": [
    "Need to convert to numerical data types when appropriate in order to make calculations possible.\n",
    "Also, going to remove any records that contain null values."
   ]
  },
  {
   "cell_type": "code",
   "execution_count": 0,
   "metadata": {
    "application/vnd.databricks.v1+cell": {
     "cellMetadata": {
      "byteLimit": 2048000,
      "rowLimit": 10000
     },
     "inputWidgets": {},
     "nuid": "82f5459a-354b-4e13-a49d-3ea8a07da7c0",
     "showTitle": false,
     "tableResultSettingsMap": {},
     "title": ""
    }
   },
   "outputs": [],
   "source": [
    "from pyspark.sql.functions import col, to_timestamp, from_unixtime, dayofweek, dayofmonth, dayofyear, weekofyear, month, year\n",
    "\n",
    "df_1min = df_btc.withColumn('Datetime', from_unixtime('Timestamp'))\n",
    "\n",
    "df_1min = df_1min.withColumn('Datetime', to_timestamp('Datetime', 'yyyy-MM-dd HH:mm:ss'))\n",
    "\n",
    "df_1min = df_1min.withColumn(\"Timestamp\", col(\"Timestamp\").cast(\"long\"))\n",
    "df_1min = df_1min.withColumn(\"Open\", col(\"Open\").cast(\"double\"))\n",
    "df_1min = df_1min.withColumn(\"High\", col(\"High\").cast(\"double\"))\n",
    "df_1min = df_1min.withColumn(\"Low\", col(\"Low\").cast(\"double\"))\n",
    "df_1min = df_1min.withColumn(\"Close\", col(\"Close\").cast(\"double\"))\n",
    "df_1min = df_1min.withColumn(\"Volume\", col(\"Volume\").cast(\"double\"))\n",
    "\n",
    "df_1min = df_1min.withColumn('Day_of_Week', dayofweek('Datetime'))\n",
    "df_1min = df_1min.withColumn('Day_of_Month', dayofmonth('Datetime'))\n",
    "df_1min = df_1min.withColumn('Day_of_Year', dayofyear('Datetime'))\n",
    "df_1min = df_1min.withColumn('Week_of_Year', weekofyear('Datetime'))\n",
    "df_1min = df_1min.withColumn('Month', month('Datetime'))\n",
    "df_1min = df_1min.withColumn('Year', year('Datetime'))\n",
    "\n",
    "df_1min = df_1min.na.drop(subset=[\"Timestamp\", \"Open\", \"High\", \"Low\", \"Close\", \"Volume\", \"Datetime\", \"Day_of_Week\", \"Day_of_Month\", \"Day_of_Year\", \"Week_of_Year\", \"Month\", \"Year\"])"
   ]
  },
  {
   "cell_type": "code",
   "execution_count": 0,
   "metadata": {
    "application/vnd.databricks.v1+cell": {
     "cellMetadata": {
      "byteLimit": 2048000,
      "rowLimit": 10000
     },
     "inputWidgets": {},
     "nuid": "015283fc-3826-4755-81bb-c45f334b56ff",
     "showTitle": false,
     "tableResultSettingsMap": {},
     "title": ""
    }
   },
   "outputs": [
    {
     "output_type": "stream",
     "name": "stdout",
     "output_type": "stream",
     "text": [
      "+----------+----+----+----+-----+------+-------------------+-----------+------------+-----------+------------+-----+----+\n| Timestamp|Open|High| Low|Close|Volume|           Datetime|Day_of_Week|Day_of_Month|Day_of_Year|Week_of_Year|Month|Year|\n+----------+----+----+----+-----+------+-------------------+-----------+------------+-----------+------------+-----+----+\n|1325412060|4.58|4.58|4.58| 4.58|   0.0|2012-01-01 10:01:00|          1|           1|          1|          52|    1|2012|\n|1325412120|4.58|4.58|4.58| 4.58|   0.0|2012-01-01 10:02:00|          1|           1|          1|          52|    1|2012|\n|1325412180|4.58|4.58|4.58| 4.58|   0.0|2012-01-01 10:03:00|          1|           1|          1|          52|    1|2012|\n|1325412240|4.58|4.58|4.58| 4.58|   0.0|2012-01-01 10:04:00|          1|           1|          1|          52|    1|2012|\n|1325412300|4.58|4.58|4.58| 4.58|   0.0|2012-01-01 10:05:00|          1|           1|          1|          52|    1|2012|\n|1325412360|4.58|4.58|4.58| 4.58|   0.0|2012-01-01 10:06:00|          1|           1|          1|          52|    1|2012|\n|1325412420|4.58|4.58|4.58| 4.58|   0.0|2012-01-01 10:07:00|          1|           1|          1|          52|    1|2012|\n|1325412480|4.58|4.58|4.58| 4.58|   0.0|2012-01-01 10:08:00|          1|           1|          1|          52|    1|2012|\n|1325412540|4.58|4.58|4.58| 4.58|   0.0|2012-01-01 10:09:00|          1|           1|          1|          52|    1|2012|\n|1325412600|4.58|4.58|4.58| 4.58|   0.0|2012-01-01 10:10:00|          1|           1|          1|          52|    1|2012|\n+----------+----+----+----+-----+------+-------------------+-----------+------------+-----------+------------+-----+----+\nonly showing top 10 rows\n\n"
     ]
    }
   ],
   "source": [
    "df_1min.show(10)"
   ]
  },
  {
   "cell_type": "markdown",
   "metadata": {
    "application/vnd.databricks.v1+cell": {
     "cellMetadata": {
      "byteLimit": 2048000,
      "rowLimit": 10000
     },
     "inputWidgets": {},
     "nuid": "3b00153c-a0c9-413a-a636-073f65e08e14",
     "showTitle": false,
     "tableResultSettingsMap": {},
     "title": ""
    }
   },
   "source": [
    "Create a dataframe of 1-day intervals to make finding trends and patterns easier.\n",
    "To achieve this, get the earliest opening, the highest high, the lowest low and the latest closing price of each day.\n",
    "\n",
    "We will use the `Day_of_year` and `Year` columns we generated earlier as our combined unique identifier for each row."
   ]
  },
  {
   "cell_type": "code",
   "execution_count": 0,
   "metadata": {
    "application/vnd.databricks.v1+cell": {
     "cellMetadata": {
      "byteLimit": 2048000,
      "rowLimit": 10000
     },
     "inputWidgets": {},
     "nuid": "6fe100de-6f02-4ae8-8faa-e865ff95373b",
     "showTitle": false,
     "tableResultSettingsMap": {},
     "title": ""
    },
    "jupyter": {
     "outputs_hidden": true
    }
   },
   "outputs": [],
   "source": [
    "df_1min.createOrReplaceTempView(\"btc_1min\")\n",
    "\n",
    "df_1day_OHLC = sqlContext.sql(\"\"\"\n",
    "SELECT Day_of_Year, Year, MIN(Timestamp) AS open_time_1day, MAX(High) AS high_1day, MIN(Low) AS low_1day, MAX(Timestamp) AS close_time_1day, SUM(Volume) AS total_volume\n",
    "FROM btc_1min\n",
    "GROUP BY Day_of_Year, Year\n",
    "ORDER BY Year, Day_of_Year\"\"\")\n",
    "\n",
    "df_1day_OHLC.createOrReplaceTempView(\"btc_1day_OHLC\")\n",
    "\n",
    "df_1day_open = sqlContext.sql(\"\"\"\n",
    "SELECT btc_1day_OHLC.Day_of_Year AS Day_of_Year, btc_1day_OHLC.Year AS Year, Open, high_1day AS High, low_1day AS Low, total_volume AS Volume\n",
    "FROM btc_1day_OHLC\n",
    "INNER JOIN btc_1min\n",
    "ON Timestamp = open_time_1day\n",
    "ORDER BY btc_1day_OHLC.year, btc_1day_OHLC.day_of_year\"\"\")\n",
    "\n",
    "df_1day_close = sqlContext.sql(\"\"\"\n",
    "SELECT btc_1day_OHLC.Day_of_Year AS Day_of_Year, btc_1day_OHLC.Year AS Year, Close\n",
    "FROM btc_1day_OHLC\n",
    "INNER JOIN btc_1min\n",
    "ON Timestamp = close_time_1day\n",
    "ORDER BY btc_1day_OHLC.year, btc_1day_OHLC.day_of_year\"\"\")\n",
    "\n",
    "df_1day_open.createOrReplaceTempView(\"btc_1day_open\")\n",
    "df_1day_close.createOrReplaceTempView(\"btc_1day_close\")\n",
    "\n",
    "df_1day = sqlContext.sql(\"\"\"\n",
    "SELECT btc_1day_open.Day_of_Year AS Day_of_Year, btc_1day_open.Year AS Year, Open, High, Low, Close, Volume\n",
    "FROM btc_1day_open\n",
    "INNER JOIN btc_1day_close\n",
    "ON btc_1day_open.Day_of_Year = btc_1day_close.Day_of_Year AND btc_1day_open.Year = btc_1day_close.Year\n",
    "ORDER BY Year, Day_of_Year\"\"\")\n",
    "\n",
    "from pyspark.sql.functions import round\n",
    "df_1day = df_1day.withColumn('Volume', round(col('Volume'), 2))"
   ]
  },
  {
   "cell_type": "code",
   "execution_count": 0,
   "metadata": {
    "application/vnd.databricks.v1+cell": {
     "cellMetadata": {
      "byteLimit": 2048000,
      "rowLimit": 10000
     },
     "inputWidgets": {},
     "nuid": "7a253060-b972-4765-b3d5-1cacd791ab27",
     "showTitle": false,
     "tableResultSettingsMap": {},
     "title": ""
    }
   },
   "outputs": [
    {
     "output_type": "stream",
     "name": "stdout",
     "output_type": "stream",
     "text": [
      "+-----------+----+----+----+----+-----+------+\n|Day_of_Year|Year|Open|High| Low|Close|Volume|\n+-----------+----+----+----+----+-----+------+\n|          1|2012|4.58|4.84|4.58| 4.84|  10.0|\n|          2|2012|4.84| 5.0|4.84|  5.0|  10.1|\n|          3|2012| 5.0|5.32| 5.0| 5.29|107.09|\n|          4|2012|5.29|5.57|4.93| 5.57|107.23|\n|          5|2012|5.57|6.46|5.57| 6.42| 70.33|\n|          6|2012|6.42| 6.9| 6.4|  6.4| 55.86|\n|          7|2012| 6.4| 6.8| 6.0|  6.8|   2.8|\n|          8|2012| 6.8| 6.9| 6.8|  6.9|   4.0|\n|          9|2012| 6.9| 7.0|6.36| 6.48| 64.87|\n|         10|2012|6.48| 7.1|6.23|  7.1| 60.69|\n+-----------+----+----+----+----+-----+------+\nonly showing top 10 rows\n\n"
     ]
    }
   ],
   "source": [
    "# Run when needed, takes about 8 minutes\n",
    "df_1day.show(10)"
   ]
  },
  {
   "cell_type": "code",
   "execution_count": 0,
   "metadata": {
    "application/vnd.databricks.v1+cell": {
     "cellMetadata": {
      "byteLimit": 2048000,
      "rowLimit": 10000
     },
     "inputWidgets": {},
     "nuid": "10371a1c-ccd0-4d27-9bc9-f89cd4c36bdf",
     "showTitle": false,
     "tableResultSettingsMap": {},
     "title": ""
    }
   },
   "outputs": [],
   "source": [
    "from pyspark.sql.window import Window\n",
    "from pyspark.sql.functions import avg\n",
    "\n",
    "window20 = Window.orderBy(['Year', 'Day_of_Year']).rowsBetween(-20, 0)\n",
    "df_1day = df_1day.withColumn('20MA', round(avg('Open').over(window20), 2))\n",
    "\n",
    "window50 = Window.orderBy(['Year', 'Day_of_Year']).rowsBetween(-50, 0)\n",
    "df_1day = df_1day.withColumn('50MA', round(avg('Open').over(window50), 2))\n",
    "\n",
    "window100 = Window.orderBy(['Year', 'Day_of_Year']).rowsBetween(-100, 0)\n",
    "df_1day = df_1day.withColumn('100MA', round(avg('Open').over(window100), 2))"
   ]
  },
  {
   "cell_type": "code",
   "execution_count": 0,
   "metadata": {
    "application/vnd.databricks.v1+cell": {
     "cellMetadata": {
      "byteLimit": 2048000,
      "rowLimit": 10000
     },
     "inputWidgets": {},
     "nuid": "ca5cfe0e-68b7-4b3d-b63e-b666d355ea12",
     "showTitle": false,
     "tableResultSettingsMap": {},
     "title": ""
    }
   },
   "outputs": [
    {
     "output_type": "stream",
     "name": "stdout",
     "output_type": "stream",
     "text": [
      "+-----------+----+----+----+----+-----+------+----+----+-----+\n|Day_of_Year|Year|Open|High| Low|Close|Volume|20MA|50MA|100MA|\n+-----------+----+----+----+----+-----+------+----+----+-----+\n|          1|2012|4.58|4.84|4.58| 4.84|  10.0|4.58|4.58| 4.58|\n|          2|2012|4.84| 5.0|4.84|  5.0|  10.1|4.71|4.71| 4.71|\n|          3|2012| 5.0|5.32| 5.0| 5.29|107.09|4.81|4.81| 4.81|\n|          4|2012|5.29|5.57|4.93| 5.57|107.23|4.93|4.93| 4.93|\n|          5|2012|5.57|6.46|5.57| 6.42| 70.33|5.06|5.06| 5.06|\n|          6|2012|6.42| 6.9| 6.4|  6.4| 55.86|5.28|5.28| 5.28|\n|          7|2012| 6.4| 6.8| 6.0|  6.8|   2.8|5.44|5.44| 5.44|\n|          8|2012| 6.8| 6.9| 6.8|  6.9|   4.0|5.61|5.61| 5.61|\n|          9|2012| 6.9| 7.0|6.36| 6.48| 64.87|5.76|5.76| 5.76|\n|         10|2012|6.48| 7.1|6.23|  7.1| 60.69|5.83|5.83| 5.83|\n+-----------+----+----+----+----+-----+------+----+----+-----+\nonly showing top 10 rows\n\n"
     ]
    }
   ],
   "source": [
    "# Run when needed, takes about 8 minutes\n",
    "df_1day.show(10)"
   ]
  },
  {
   "cell_type": "markdown",
   "metadata": {
    "application/vnd.databricks.v1+cell": {
     "cellMetadata": {},
     "inputWidgets": {},
     "nuid": "13bdc757-a527-4f74-a314-4f29d69498f7",
     "showTitle": false,
     "tableResultSettingsMap": {},
     "title": ""
    }
   },
   "source": [
    "We can display the moving averages using a line graph. 20, 50 and 100 moving average are yellow, orange and red, respectively. We will also display the opening prices in blue."
   ]
  },
  {
   "cell_type": "code",
   "execution_count": 0,
   "metadata": {
    "application/vnd.databricks.v1+cell": {
     "cellMetadata": {},
     "inputWidgets": {},
     "nuid": "06a26c31-6b73-4aea-b0a4-1fde7ed4fe45",
     "showTitle": false,
     "tableResultSettingsMap": {},
     "title": ""
    }
   },
   "outputs": [],
   "source": [
    "import matplotlib.pyplot as plt\n",
    "import numpy as np"
   ]
  },
  {
   "cell_type": "code",
   "execution_count": 0,
   "metadata": {
    "application/vnd.databricks.v1+cell": {
     "cellMetadata": {
      "byteLimit": 2048000,
      "rowLimit": 10000
     },
     "inputWidgets": {},
     "nuid": "d9b4e5c1-4938-4bb3-8ede-94deadc1e478",
     "showTitle": false,
     "tableResultSettingsMap": {},
     "title": ""
    }
   },
   "outputs": [
    {
     "output_type": "display_data",
     "data": {
      "image/png": "[encoded data removed]"
     },
     "metadata": {
      "application/vnd.databricks.v1+output": {
       "addedWidgets": {},
       "arguments": {},
       "data": "data:image/png;base64,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\n",
       "datasetInfos": [],
       "metadata": {},
       "removedWidgets": [],
       "type": "image"
      }
     },
     "output_type": "display_data"
    }
   ],
   "source": [
    "x = np.array(list(range(df_1day.count())))\n",
    "\n",
    "y = np.array(list(df_1day.select('Open').toPandas()['Open']))\n",
    "plt.plot(x, y)\n",
    "\n",
    "y20 =  np.array(list(df_1day.select('20MA').toPandas()['20MA']))\n",
    "y50 =  np.array(list(df_1day.select('50MA').toPandas()['50MA']))\n",
    "y100 = np.array(list(df_1day.select('100MA').toPandas()['100MA']))\n",
    "plt.plot(x, y20, ':', color='gold')\n",
    "plt.plot(x, y50, '-.', color='orange')\n",
    "plt.plot(x, y100, '--', color='red')\n",
    "\n",
    "plt.xlabel(\"Days after 1 Jan. 2012\")\n",
    "plt.ylabel(\"Price\")\n",
    "plt.title('Open prices with Moving Averages')\n",
    "plt.show()"
   ]
  },
  {
   "cell_type": "markdown",
   "metadata": {
    "application/vnd.databricks.v1+cell": {
     "cellMetadata": {},
     "inputWidgets": {},
     "nuid": "5a719f64-f8c7-49e5-9f30-8059b4cdc9b3",
     "showTitle": false,
     "tableResultSettingsMap": {},
     "title": ""
    }
   },
   "source": [
    "It may be difficult to see the differences between the moving averages and the BTC prices, so we will also include the chart for only each year seperately."
   ]
  },
  {
   "cell_type": "code",
   "execution_count": 0,
   "metadata": {
    "application/vnd.databricks.v1+cell": {
     "cellMetadata": {},
     "inputWidgets": {},
     "nuid": "bafad3fd-285d-4679-bbc9-17e538fce614",
     "showTitle": false,
     "tableResultSettingsMap": {},
     "title": ""
    }
   },
   "outputs": [],
   "source": [
    "# Note: Program may time-out before displaying the results because the Spark cluster in DataBricks terminates after 60 minutes. It takes about 30-35 minutes to display each chart, so the program does not finish computing the next cell."
   ]
  },
  {
   "cell_type": "code",
   "execution_count": 0,
   "metadata": {
    "application/vnd.databricks.v1+cell": {
     "cellMetadata": {
      "byteLimit": 2048000,
      "rowLimit": 10000
     },
     "inputWidgets": {},
     "nuid": "1d94d6d7-4df7-483e-af0c-7bde334ab153",
     "showTitle": false,
     "tableResultSettingsMap": {},
     "title": ""
    }
   },
   "outputs": [],
   "source": [
    "curr_year = 2012\n",
    "df_1day.createOrReplaceTempView(\"btc_1day\")\n",
    "\n",
    "df_year = sqlContext.sql(\"SELECT * FROM btc_1day WHERE Year = \"\n",
    "                            + str(curr_year)\n",
    "                            + \" ORDER BY Year, Day_of_Year\")\n",
    "\n",
    "x = np.array(list(range(df_year.count())))\n",
    "\n",
    "y = np.array(list(df_year.select('Open').toPandas()['Open']))\n",
    "plt.plot(x, y)\n",
    "\n",
    "y20 =  np.array(list(df_year.select('20MA').toPandas()['20MA']))\n",
    "y50 =  np.array(list(df_year.select('50MA').toPandas()['50MA']))\n",
    "y100 = np.array(list(df_year.select('100MA').toPandas()['100MA']))\n",
    "plt.plot(x, y20, ':', color='gold')\n",
    "plt.plot(x, y50, '-.', color='orange')\n",
    "plt.plot(x, y100, '--', color='red')\n",
    "\n",
    "plt.xlabel((\"Days of \" + str(curr_year)))\n",
    "plt.ylabel(\"Price\")\n",
    "plt.title((\"Open prices in \" + str(curr_year) + \" with Moving Averages\"))\n",
    "plt.show()"
   ]
  },
  {
   "cell_type": "code",
   "execution_count": 0,
   "metadata": {
    "application/vnd.databricks.v1+cell": {
     "cellMetadata": {
      "byteLimit": 2048000,
      "rowLimit": 10000
     },
     "inputWidgets": {},
     "nuid": "daeec9ab-92f1-4944-a64e-b7aa25a98da5",
     "showTitle": false,
     "tableResultSettingsMap": {},
     "title": ""
    }
   },
   "outputs": [],
   "source": [
    "curr_year = 2013\n",
    "df_1day.createOrReplaceTempView(\"btc_1day\")\n",
    "\n",
    "df_year = sqlContext.sql(\"SELECT * FROM btc_1day WHERE Year = \"\n",
    "                            + str(curr_year)\n",
    "                            + \" ORDER BY Year, Day_of_Year\")\n",
    "\n",
    "x = np.array(list(range(df_year.count())))\n",
    "\n",
    "y = np.array(list(df_year.select('Open').toPandas()['Open']))\n",
    "plt.plot(x, y)\n",
    "\n",
    "y20 =  np.array(list(df_year.select('20MA').toPandas()['20MA']))\n",
    "y50 =  np.array(list(df_year.select('50MA').toPandas()['50MA']))\n",
    "y100 = np.array(list(df_year.select('100MA').toPandas()['100MA']))\n",
    "plt.plot(x, y20, ':', color='gold')\n",
    "plt.plot(x, y50, '-.', color='orange')\n",
    "plt.plot(x, y100, '--', color='red')\n",
    "\n",
    "plt.xlabel((\"Days of \" + str(curr_year)))\n",
    "plt.ylabel(\"Price\")\n",
    "plt.title((\"Open prices in \" + str(curr_year) + \" with Moving Averages\"))\n",
    "plt.show()"
   ]
  },
  {
   "cell_type": "code",
   "execution_count": 0,
   "metadata": {
    "application/vnd.databricks.v1+cell": {
     "cellMetadata": {
      "byteLimit": 2048000,
      "rowLimit": 10000
     },
     "inputWidgets": {},
     "nuid": "a8abc849-2384-4f00-8bd3-cb123548df0d",
     "showTitle": false,
     "tableResultSettingsMap": {},
     "title": ""
    }
   },
   "outputs": [],
   "source": [
    "curr_year = 2014\n",
    "df_1day.createOrReplaceTempView(\"btc_1day\")\n",
    "\n",
    "df_year = sqlContext.sql(\"SELECT * FROM btc_1day WHERE Year = \"\n",
    "                            + str(curr_year)\n",
    "                            + \" ORDER BY Year, Day_of_Year\")\n",
    "\n",
    "x = np.array(list(range(df_year.count())))\n",
    "\n",
    "y = np.array(list(df_year.select('Open').toPandas()['Open']))\n",
    "plt.plot(x, y)\n",
    "\n",
    "y20 =  np.array(list(df_year.select('20MA').toPandas()['20MA']))\n",
    "y50 =  np.array(list(df_year.select('50MA').toPandas()['50MA']))\n",
    "y100 = np.array(list(df_year.select('100MA').toPandas()['100MA']))\n",
    "plt.plot(x, y20, ':', color='gold')\n",
    "plt.plot(x, y50, '-.', color='orange')\n",
    "plt.plot(x, y100, '--', color='red')\n",
    "\n",
    "plt.xlabel((\"Days of \" + str(curr_year)))\n",
    "plt.ylabel(\"Price\")\n",
    "plt.title((\"Open prices in \" + str(curr_year) + \" with Moving Averages\"))\n",
    "plt.show()"
   ]
  },
  {
   "cell_type": "code",
   "execution_count": 0,
   "metadata": {
    "application/vnd.databricks.v1+cell": {
     "cellMetadata": {
      "byteLimit": 2048000,
      "rowLimit": 10000
     },
     "inputWidgets": {},
     "nuid": "6dc803ae-dedc-4d5a-b7a9-4b7ae6a9e728",
     "showTitle": false,
     "tableResultSettingsMap": {},
     "title": ""
    }
   },
   "outputs": [],
   "source": [
    "curr_year = 2015\n",
    "df_1day.createOrReplaceTempView(\"btc_1day\")\n",
    "\n",
    "df_year = sqlContext.sql(\"SELECT * FROM btc_1day WHERE Year = \"\n",
    "                            + str(curr_year)\n",
    "                            + \" ORDER BY Year, Day_of_Year\")\n",
    "\n",
    "x = np.array(list(range(df_year.count())))\n",
    "\n",
    "y = np.array(list(df_year.select('Open').toPandas()['Open']))\n",
    "plt.plot(x, y)\n",
    "\n",
    "y20 =  np.array(list(df_year.select('20MA').toPandas()['20MA']))\n",
    "y50 =  np.array(list(df_year.select('50MA').toPandas()['50MA']))\n",
    "y100 = np.array(list(df_year.select('100MA').toPandas()['100MA']))\n",
    "plt.plot(x, y20, ':', color='gold')\n",
    "plt.plot(x, y50, '-.', color='orange')\n",
    "plt.plot(x, y100, '--', color='red')\n",
    "\n",
    "plt.xlabel((\"Days of \" + str(curr_year)))\n",
    "plt.ylabel(\"Price\")\n",
    "plt.title((\"Open prices in \" + str(curr_year) + \" with Moving Averages\"))\n",
    "plt.show()"
   ]
  },
  {
   "cell_type": "code",
   "execution_count": 0,
   "metadata": {
    "application/vnd.databricks.v1+cell": {
     "cellMetadata": {
      "byteLimit": 2048000,
      "rowLimit": 10000
     },
     "inputWidgets": {},
     "nuid": "696961c7-139e-4c33-90e6-e97394e8c190",
     "showTitle": false,
     "tableResultSettingsMap": {},
     "title": ""
    }
   },
   "outputs": [],
   "source": [
    "curr_year = 2016\n",
    "df_1day.createOrReplaceTempView(\"btc_1day\")\n",
    "\n",
    "df_year = sqlContext.sql(\"SELECT * FROM btc_1day WHERE Year = \"\n",
    "                            + str(curr_year)\n",
    "                            + \" ORDER BY Year, Day_of_Year\")\n",
    "\n",
    "x = np.array(list(range(df_year.count())))\n",
    "\n",
    "y = np.array(list(df_year.select('Open').toPandas()['Open']))\n",
    "plt.plot(x, y)\n",
    "\n",
    "y20 =  np.array(list(df_year.select('20MA').toPandas()['20MA']))\n",
    "y50 =  np.array(list(df_year.select('50MA').toPandas()['50MA']))\n",
    "y100 = np.array(list(df_year.select('100MA').toPandas()['100MA']))\n",
    "plt.plot(x, y20, ':', color='gold')\n",
    "plt.plot(x, y50, '-.', color='orange')\n",
    "plt.plot(x, y100, '--', color='red')\n",
    "\n",
    "plt.xlabel((\"Days of \" + str(curr_year)))\n",
    "plt.ylabel(\"Price\")\n",
    "plt.title((\"Open prices in \" + str(curr_year) + \" with Moving Averages\"))\n",
    "plt.show()"
   ]
  },
  {
   "cell_type": "code",
   "execution_count": 0,
   "metadata": {
    "application/vnd.databricks.v1+cell": {
     "cellMetadata": {
      "byteLimit": 2048000,
      "rowLimit": 10000
     },
     "inputWidgets": {},
     "nuid": "41f72741-af6b-49b6-8b46-8e5e20794558",
     "showTitle": false,
     "tableResultSettingsMap": {},
     "title": ""
    }
   },
   "outputs": [],
   "source": [
    "curr_year = 2017\n",
    "df_1day.createOrReplaceTempView(\"btc_1day\")\n",
    "\n",
    "df_year = sqlContext.sql(\"SELECT * FROM btc_1day WHERE Year = \"\n",
    "                            + str(curr_year)\n",
    "                            + \" ORDER BY Year, Day_of_Year\")\n",
    "\n",
    "x = np.array(list(range(df_year.count())))\n",
    "\n",
    "y = np.array(list(df_year.select('Open').toPandas()['Open']))\n",
    "plt.plot(x, y)\n",
    "\n",
    "y20 =  np.array(list(df_year.select('20MA').toPandas()['20MA']))\n",
    "y50 =  np.array(list(df_year.select('50MA').toPandas()['50MA']))\n",
    "y100 = np.array(list(df_year.select('100MA').toPandas()['100MA']))\n",
    "plt.plot(x, y20, ':', color='gold')\n",
    "plt.plot(x, y50, '-.', color='orange')\n",
    "plt.plot(x, y100, '--', color='red')\n",
    "\n",
    "plt.xlabel((\"Days of \" + str(curr_year)))\n",
    "plt.ylabel(\"Price\")\n",
    "plt.title((\"Open prices in \" + str(curr_year) + \" with Moving Averages\"))\n",
    "plt.show()"
   ]
  },
  {
   "cell_type": "code",
   "execution_count": 0,
   "metadata": {
    "application/vnd.databricks.v1+cell": {
     "cellMetadata": {
      "byteLimit": 2048000,
      "rowLimit": 10000
     },
     "inputWidgets": {},
     "nuid": "f6a94d24-2c09-4975-a4dd-c3c15648ceff",
     "showTitle": false,
     "tableResultSettingsMap": {},
     "title": ""
    }
   },
   "outputs": [],
   "source": [
    "curr_year = 2018\n",
    "df_1day.createOrReplaceTempView(\"btc_1day\")\n",
    "\n",
    "df_year = sqlContext.sql(\"SELECT * FROM btc_1day WHERE Year = \"\n",
    "                            + str(curr_year)\n",
    "                            + \" ORDER BY Year, Day_of_Year\")\n",
    "\n",
    "x = np.array(list(range(df_year.count())))\n",
    "\n",
    "y = np.array(list(df_year.select('Open').toPandas()['Open']))\n",
    "plt.plot(x, y)\n",
    "\n",
    "y20 =  np.array(list(df_year.select('20MA').toPandas()['20MA']))\n",
    "y50 =  np.array(list(df_year.select('50MA').toPandas()['50MA']))\n",
    "y100 = np.array(list(df_year.select('100MA').toPandas()['100MA']))\n",
    "plt.plot(x, y20, ':', color='gold')\n",
    "plt.plot(x, y50, '-.', color='orange')\n",
    "plt.plot(x, y100, '--', color='red')\n",
    "\n",
    "plt.xlabel((\"Days of \" + str(curr_year)))\n",
    "plt.ylabel(\"Price\")\n",
    "plt.title((\"Open prices in \" + str(curr_year) + \" with Moving Averages\"))\n",
    "plt.show()"
   ]
  },
  {
   "cell_type": "code",
   "execution_count": 0,
   "metadata": {
    "application/vnd.databricks.v1+cell": {
     "cellMetadata": {
      "byteLimit": 2048000,
      "rowLimit": 10000
     },
     "inputWidgets": {},
     "nuid": "1a29b163-f954-4ba7-afc4-fe9039403adc",
     "showTitle": false,
     "tableResultSettingsMap": {},
     "title": ""
    }
   },
   "outputs": [],
   "source": [
    "curr_year = 2019\n",
    "df_1day.createOrReplaceTempView(\"btc_1day\")\n",
    "\n",
    "df_year = sqlContext.sql(\"SELECT * FROM btc_1day WHERE Year = \"\n",
    "                            + str(curr_year)\n",
    "                            + \" ORDER BY Year, Day_of_Year\")\n",
    "\n",
    "x = np.array(list(range(df_year.count())))\n",
    "\n",
    "y = np.array(list(df_year.select('Open').toPandas()['Open']))\n",
    "plt.plot(x, y)\n",
    "\n",
    "y20 =  np.array(list(df_year.select('20MA').toPandas()['20MA']))\n",
    "y50 =  np.array(list(df_year.select('50MA').toPandas()['50MA']))\n",
    "y100 = np.array(list(df_year.select('100MA').toPandas()['100MA']))\n",
    "plt.plot(x, y20, ':', color='gold')\n",
    "plt.plot(x, y50, '-.', color='orange')\n",
    "plt.plot(x, y100, '--', color='red')\n",
    "\n",
    "plt.xlabel((\"Days of \" + str(curr_year)))\n",
    "plt.ylabel(\"Price\")\n",
    "plt.title((\"Open prices in \" + str(curr_year) + \" with Moving Averages\"))\n",
    "plt.show()"
   ]
  },
  {
   "cell_type": "code",
   "execution_count": 0,
   "metadata": {
    "application/vnd.databricks.v1+cell": {
     "cellMetadata": {
      "byteLimit": 2048000,
      "rowLimit": 10000
     },
     "inputWidgets": {},
     "nuid": "2d81360d-44dd-4652-9221-230094f43738",
     "showTitle": false,
     "tableResultSettingsMap": {},
     "title": ""
    }
   },
   "outputs": [],
   "source": [
    "curr_year = 2020\n",
    "df_1day.createOrReplaceTempView(\"btc_1day\")\n",
    "\n",
    "df_year = sqlContext.sql(\"SELECT * FROM btc_1day WHERE Year = \"\n",
    "                            + str(curr_year)\n",
    "                            + \" ORDER BY Year, Day_of_Year\")\n",
    "\n",
    "x = np.array(list(range(df_year.count())))\n",
    "\n",
    "y = np.array(list(df_year.select('Open').toPandas()['Open']))\n",
    "plt.plot(x, y)\n",
    "\n",
    "y20 =  np.array(list(df_year.select('20MA').toPandas()['20MA']))\n",
    "y50 =  np.array(list(df_year.select('50MA').toPandas()['50MA']))\n",
    "y100 = np.array(list(df_year.select('100MA').toPandas()['100MA']))\n",
    "plt.plot(x, y20, ':', color='gold')\n",
    "plt.plot(x, y50, '-.', color='orange')\n",
    "plt.plot(x, y100, '--', color='red')\n",
    "\n",
    "plt.xlabel((\"Days of \" + str(curr_year)))\n",
    "plt.ylabel(\"Price\")\n",
    "plt.title((\"Open prices in \" + str(curr_year) + \" with Moving Averages\"))\n",
    "plt.show()"
   ]
  },
  {
   "cell_type": "code",
   "execution_count": 0,
   "metadata": {
    "application/vnd.databricks.v1+cell": {
     "cellMetadata": {
      "byteLimit": 2048000,
      "rowLimit": 10000
     },
     "inputWidgets": {},
     "nuid": "83e3a01b-eb85-4977-aded-fc7f7a355e39",
     "showTitle": false,
     "tableResultSettingsMap": {},
     "title": ""
    }
   },
   "outputs": [],
   "source": [
    "curr_year = 2021\n",
    "df_1day.createOrReplaceTempView(\"btc_1day\")\n",
    "\n",
    "df_year = sqlContext.sql(\"SELECT * FROM btc_1day WHERE Year = \"\n",
    "                            + str(curr_year)\n",
    "                            + \" ORDER BY Year, Day_of_Year\")\n",
    "\n",
    "x = np.array(list(range(df_year.count())))\n",
    "\n",
    "y = np.array(list(df_year.select('Open').toPandas()['Open']))\n",
    "plt.plot(x, y)\n",
    "\n",
    "y20 =  np.array(list(df_year.select('20MA').toPandas()['20MA']))\n",
    "y50 =  np.array(list(df_year.select('50MA').toPandas()['50MA']))\n",
    "y100 = np.array(list(df_year.select('100MA').toPandas()['100MA']))\n",
    "plt.plot(x, y20, ':', color='gold')\n",
    "plt.plot(x, y50, '-.', color='orange')\n",
    "plt.plot(x, y100, '--', color='red')\n",
    "\n",
    "plt.xlabel((\"Days of \" + str(curr_year)))\n",
    "plt.ylabel(\"Price\")\n",
    "plt.title((\"Open prices in \" + str(curr_year) + \" with Moving Averages\"))\n",
    "plt.show()"
   ]
  },
  {
   "cell_type": "code",
   "execution_count": 0,
   "metadata": {
    "application/vnd.databricks.v1+cell": {
     "cellMetadata": {
      "byteLimit": 2048000,
      "rowLimit": 10000
     },
     "inputWidgets": {},
     "nuid": "3601ff6f-b265-45d1-a025-224d04eb94cc",
     "showTitle": false,
     "tableResultSettingsMap": {},
     "title": ""
    }
   },
   "outputs": [],
   "source": [
    "curr_year = 2022\n",
    "df_1day.createOrReplaceTempView(\"btc_1day\")\n",
    "\n",
    "df_year = sqlContext.sql(\"SELECT * FROM btc_1day WHERE Year = \"\n",
    "                            + str(curr_year)\n",
    "                            + \" ORDER BY Year, Day_of_Year\")\n",
    "\n",
    "x = np.array(list(range(df_year.count())))\n",
    "\n",
    "y = np.array(list(df_year.select('Open').toPandas()['Open']))\n",
    "plt.plot(x, y)\n",
    "\n",
    "y20 =  np.array(list(df_year.select('20MA').toPandas()['20MA']))\n",
    "y50 =  np.array(list(df_year.select('50MA').toPandas()['50MA']))\n",
    "y100 = np.array(list(df_year.select('100MA').toPandas()['100MA']))\n",
    "plt.plot(x, y20, ':', color='gold')\n",
    "plt.plot(x, y50, '-.', color='orange')\n",
    "plt.plot(x, y100, '--', color='red')\n",
    "\n",
    "plt.xlabel((\"Days of \" + str(curr_year)))\n",
    "plt.ylabel(\"Price\")\n",
    "plt.title((\"Open prices in \" + str(curr_year) + \" with Moving Averages\"))\n",
    "plt.show()"
   ]
  },
  {
   "cell_type": "code",
   "execution_count": 0,
   "metadata": {
    "application/vnd.databricks.v1+cell": {
     "cellMetadata": {
      "byteLimit": 2048000,
      "rowLimit": 10000
     },
     "inputWidgets": {},
     "nuid": "ac2abc90-c882-4e30-9815-e9f64cbd1090",
     "showTitle": false,
     "tableResultSettingsMap": {},
     "title": ""
    }
   },
   "outputs": [],
   "source": [
    "curr_year = 2023\n",
    "df_1day.createOrReplaceTempView(\"btc_1day\")\n",
    "\n",
    "df_year = sqlContext.sql(\"SELECT * FROM btc_1day WHERE Year = \"\n",
    "                            + str(curr_year)\n",
    "                            + \" ORDER BY Year, Day_of_Year\")\n",
    "\n",
    "x = np.array(list(range(df_year.count())))\n",
    "\n",
    "y = np.array(list(df_year.select('Open').toPandas()['Open']))\n",
    "plt.plot(x, y)\n",
    "\n",
    "y20 =  np.array(list(df_year.select('20MA').toPandas()['20MA']))\n",
    "y50 =  np.array(list(df_year.select('50MA').toPandas()['50MA']))\n",
    "y100 = np.array(list(df_year.select('100MA').toPandas()['100MA']))\n",
    "plt.plot(x, y20, ':', color='gold')\n",
    "plt.plot(x, y50, '-.', color='orange')\n",
    "plt.plot(x, y100, '--', color='red')\n",
    "\n",
    "plt.xlabel((\"Days of \" + str(curr_year)))\n",
    "plt.ylabel(\"Price\")\n",
    "plt.title((\"Open prices in \" + str(curr_year) + \" with Moving Averages\"))\n",
    "plt.show()"
   ]
  },
  {
   "cell_type": "code",
   "execution_count": 0,
   "metadata": {
    "application/vnd.databricks.v1+cell": {
     "cellMetadata": {
      "byteLimit": 2048000,
      "rowLimit": 10000
     },
     "inputWidgets": {},
     "nuid": "d92e7f88-0dfd-4efc-b54d-b396a6b28e83",
     "showTitle": false,
     "tableResultSettingsMap": {},
     "title": ""
    }
   },
   "outputs": [
    {
     "output_type": "display_data",
     "data": {
      "image/png": "[encoded data removed]"
     },
     "metadata": {
      "application/vnd.databricks.v1+output": {
       "addedWidgets": {},
       "arguments": {},
       "data": "data:image/png;base64,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\n",
       "datasetInfos": [],
       "metadata": {},
       "removedWidgets": [],
       "type": "image"
      }
     },
     "output_type": "display_data"
    }
   ],
   "source": [
    "curr_year = 2024\n",
    "df_1day.createOrReplaceTempView(\"btc_1day\")\n",
    "\n",
    "df_year = sqlContext.sql(\"SELECT * FROM btc_1day WHERE Year = \"\n",
    "                            + str(curr_year)\n",
    "                            + \" ORDER BY Year, Day_of_Year\")\n",
    "\n",
    "x = np.array(list(range(df_year.count())))\n",
    "\n",
    "y = np.array(list(df_year.select('Open').toPandas()['Open']))\n",
    "plt.plot(x, y)\n",
    "\n",
    "y20 =  np.array(list(df_year.select('20MA').toPandas()['20MA']))\n",
    "y50 =  np.array(list(df_year.select('50MA').toPandas()['50MA']))\n",
    "y100 = np.array(list(df_year.select('100MA').toPandas()['100MA']))\n",
    "plt.plot(x, y20, ':', color='gold')\n",
    "plt.plot(x, y50, '-.', color='orange')\n",
    "plt.plot(x, y100, '--', color='red')\n",
    "\n",
    "plt.xlabel((\"Days of \" + str(curr_year)))\n",
    "plt.ylabel(\"Price\")\n",
    "plt.title((\"Open prices in \" + str(curr_year) + \" with Moving Averages\"))\n",
    "plt.show()"
   ]
  }
 ],
 "metadata": {
  "application/vnd.databricks.v1+notebook": {
   "computePreferences": null,
   "dashboards": [],
   "environmentMetadata": {
    "base_environment": "",
    "client": "1"
   },
   "language": "python",
   "notebookMetadata": {
    "mostRecentlyExecutedCommandWithImplicitDF": {
     "commandId": 1272562700730320,
     "dataframes": [
      "_sqldf"
     ]
    },
    "pythonIndentUnit": 4
   },
   "notebookName": "Bitcoin Chart Pattern Analysis",
   "widgets": {}
  }
 },
 "nbformat": 4,
 "nbformat_minor": 0
}
